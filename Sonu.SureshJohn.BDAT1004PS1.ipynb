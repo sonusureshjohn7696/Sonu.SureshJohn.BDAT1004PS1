{
 "cells": [
  {
   "cell_type": "markdown",
   "id": "8048f8aa-06e5-445a-af74-b11b3e0fc269",
   "metadata": {},
   "source": [
    "# Question 1\n",
    "What data type is each of the following (evaluate where necessary)?\r\n"
   ]
  },
  {
   "cell_type": "markdown",
   "id": "3a02ec79-61f4-4670-9f43-2fc119ce70d8",
   "metadata": {},
   "source": [
    "# Answer \r",
    "\r\n",
    "-\tInt32\r\n",
    "5-0\tDouble\r\n",
    "->1\tBoolean\r",
    "-'5'\tString-\n",
    "5*2\tInt32\r\n",
    "'5-' * 2\tString\r\n",
    "'5 - + '2'\tStrin -\r\n",
    "5 / 2\tIn-t32\r\n",
    "5%2\tDouble\r",
    " -{5, 2, 1}\tL-st\r\n",
    "5 == 3\tBoolean\r\n",
    "Pi (-the number)\tDouble\r\n",
    "er)\tDouble\r\n"
   ]
  },
  {
   "cell_type": "markdown",
   "id": "37b41706-4e87-4558-bd9c-0fab15275c27",
   "metadata": {},
   "source": [
    "# Question 2\n",
    "Write (and evaluate) python expressions that answer these questions:\r\n",
    "a. How many letters are there in 'Supercalifragilisticexpialidocious'?\r\n",
    "b. Does 'Supercalifragilisticexpialidocious' contain 'ice' as a substring\n",
    "c. Which of the following words is the longest: \r\n",
    "Supercalifragilisticexpialidocious, Honorificabilitudinitatibus, or \r\n",
    "Bababadalgharaghtakamminarronnkonn? \r\n",
    "d. Which composer comes first in the dictionary: 'Berlioz', 'Borodin', 'Brian, \r\n",
    "'Bartok', 'Bellini', 'Buxtehude', 'Bernstein'. Which one comes last?\r",
    "? \r\n"
   ]
  },
  {
   "cell_type": "code",
   "execution_count": 7,
   "id": "2f80aac4-2be9-43b8-8b29-b48968ab7f29",
   "metadata": {},
   "outputs": [
    {
     "name": "stdout",
     "output_type": "stream",
     "text": [
      "34\n"
     ]
    }
   ],
   "source": [
    "#Answer a.How many letters are there in 'Supercalifragilisticexpialidocious'?\n",
    "word = 'Supercalifragilisticexpialidocious'\n",
    "print(len(word))"
   ]
  },
  {
   "cell_type": "code",
   "execution_count": 9,
   "id": "eae76753-6d0b-4207-816e-75c20aa4c494",
   "metadata": {},
   "outputs": [
    {
     "name": "stdout",
     "output_type": "stream",
     "text": [
      "True\n"
     ]
    }
   ],
   "source": [
    "#Answer b.Does 'Supercalifragilisticexpialidocious' contain 'ice' as a substring?\n",
    "word = 'Supercalifragilisticexpialidocious'\n",
    "print('ice' in word)\n",
    "\n"
   ]
  },
  {
   "cell_type": "code",
   "execution_count": 48,
   "id": "2c6514c5-6b4e-46b8-8e83-ad5c57ef2699",
   "metadata": {},
   "outputs": [
    {
     "name": "stdout",
     "output_type": "stream",
     "text": [
      "The longest word is: Supercalifragilisticexpialidocious\n"
     ]
    }
   ],
   "source": [
    "#Answer c.Which of the following words is the longest: Supercalifragilisticexpialidocious, Honorificabilitudinitatibus, or Bababadalgharaghtakamminarronnkonn?\n",
    "words = [\"Supercalifragilisticexpialidocious\", \"Honorificabilitudinitatibus\", \"Bababadalgharaghtakamminarronnkonn\"]\n",
    "long_word = max(words, key=len)\n",
    "print(\"The longest word is:\", long_word)"
   ]
  },
  {
   "cell_type": "code",
   "execution_count": 52,
   "id": "69afba39-54dd-42c6-a57e-fdea4096e3ab",
   "metadata": {},
   "outputs": [
    {
     "name": "stdout",
     "output_type": "stream",
     "text": [
      "The first composer alphabetically is: Bartok\n",
      "The last composer alphabetically is: Buxtehude\n"
     ]
    }
   ],
   "source": [
    "#Answer d.Which composer comes first in the dictionary: 'Berlioz', 'Borodin', 'Brian', 'Bartok', 'Bellini', 'Buxtehude', 'Bernstein'.Which one comes last?\n",
    "\n",
    "composers = ['Berlioz', 'Borodin', 'Brian', 'Bartok', 'Bellini', 'Buxtehude', 'Bernstein']\n",
    "first_composer = min(composers)\n",
    "last_composer = max(composers)\n",
    "print(\"The first composer alphabetically is:\", first_composer)\n",
    "print(\"The last composer alphabetically is:\", last_composer)\n"
   ]
  },
  {
   "cell_type": "markdown",
   "id": "0cfac589-1dde-4230-b7e0-7d1f4487269a",
   "metadata": {},
   "source": [
    "# Question 3\n",
    "Implement function triangleArea(a,b,c) that takes as input the lengths of the 3 \n",
    "sides of a triangle and returns the area of the triangle. By Heron's formula, the area \r\n",
    "of a triangle with side lengths a, b, and c is\r\n",
    "s(s - a)(s -b)(s c)\r\n",
    ", whre \r\n",
    "s = (a+b+c)\r\n",
    ">>> triangleArea(2,2,2)\r\n",
    "1.732050805688772\r\n"
   ]
  },
  {
   "cell_type": "code",
   "execution_count": 104,
   "id": "3ccd3693-5f2a-4e3e-96f3-ae9389a36a92",
   "metadata": {},
   "outputs": [
    {
     "name": "stdin",
     "output_type": "stream",
     "text": [
      "Enter the length of side a:  2\n",
      "Enter the length of side b:  2\n",
      "Enter the length of side c:  2\n"
     ]
    },
    {
     "name": "stdout",
     "output_type": "stream",
     "text": [
      "The area of the triangle is: 1.7320508075688772\n"
     ]
    }
   ],
   "source": [
    "import math\n",
    "\n",
    "def triangleArea(a, b, c):\n",
    "  s = (a + b + c) / 2\n",
    "\n",
    "  area = math.sqrt(s * (s - a) * (s - b) * (s - c))\n",
    "\n",
    "  return area\n",
    "\n",
    "a = float(input(\"Enter the length of side a: \"))\n",
    "b = float(input(\"Enter the length of side b: \"))\n",
    "c = float(input(\"Enter the length of side c: \"))\n",
    "\n",
    "area = triangleArea(a, b, c)\n",
    "\n",
    "print(\"The area of the triangle is:\", area)\n",
    "\n"
   ]
  },
  {
   "cell_type": "markdown",
   "id": "9eda0d22-b4c7-4353-9c03-78b01ac2cc42",
   "metadata": {},
   "source": [
    "# Question 4\n",
    "Write a program in python to separate odd and even integers in separate arrays. Go \r\n",
    "to the editor\r\n",
    "Test Data :\r\n",
    "Input the number of elements to be stored in the array :5\r\n",
    "Input 5 elements in the array :\r\n",
    "element - 0 : 25\r\n",
    "element - 1 : 47\r\n",
    "element - 2 : 42\r\n",
    "element - 3 : 56\r\n",
    "element - 4 : 32\r\n",
    "Expected Output:\r\n",
    "The Even elements are:\r\n",
    "42 56 32\r\n",
    "The Odd elements are :\r\n",
    "25 47\r\n"
   ]
  },
  {
   "cell_type": "code",
   "execution_count": 100,
   "id": "b8cc8ad6-b017-4909-81e4-3a7f2e63b427",
   "metadata": {},
   "outputs": [
    {
     "name": "stdin",
     "output_type": "stream",
     "text": [
      "Input the number of elements to be stored in the array:  5\n",
      "element - 0:  25\n",
      "element - 1:  42\n",
      "element - 2:  47\n",
      "element - 3:  56\n",
      "element - 4:  32\n"
     ]
    },
    {
     "name": "stdout",
     "output_type": "stream",
     "text": [
      "The Even elements are:\n",
      "42 56 32\n",
      "The Odd elements are:\n",
      "25 47\n"
     ]
    }
   ],
   "source": [
    "def separate_odd_even(numbers):\n",
    "  even_numbers = []\n",
    "  odd_numbers = []\n",
    "\n",
    "  for number in numbers:\n",
    "    if number % 2 == 0:\n",
    "      even_numbers.append(number)\n",
    "    else:\n",
    "      odd_numbers.append(number)\n",
    "\n",
    "  return even_numbers, odd_numbers\n",
    "\n",
    "\n",
    "num_elements = int(input(\"Input the number of elements to be stored in the array: \"))\n",
    "numbers = []\n",
    "for i in range(num_elements):\n",
    "  numbers.append(int(input(f\"element - {i}: \")))\n",
    "\n",
    "\n",
    "even_numbers, odd_numbers = separate_odd_even(numbers)\n",
    "\n",
    "\n",
    "print(\"The Even elements are:\")\n",
    "print(*even_numbers)\n",
    "print(\"The Odd elements are:\")\n",
    "print(*odd_numbers)"
   ]
  },
  {
   "cell_type": "markdown",
   "id": "07271aac-8430-4170-8500-d06c6f51132a",
   "metadata": {},
   "source": [
    "# Question 5a\n",
    "a. Write a function inside(x,y,x1,y1,x2,y2) that returns True or False \r\n",
    "depending on whether the point (x,y) lies in the rectangle with lower left \r\n",
    "corner (x1,y1) and upper right corner (x2,y2).\r\n",
    ">>> inside(1,1,0,0,2,3)\r\n",
    "True\r\n",
    ">>> inside(-1,-1,0,0,2,3)\r\n",
    "False2)\n"
   ]
  },
  {
   "cell_type": "code",
   "execution_count": 120,
   "id": "5ec268c8-9eca-4d61-9a99-2d63f3b5afe6",
   "metadata": {},
   "outputs": [
    {
     "name": "stdin",
     "output_type": "stream",
     "text": [
      "Enter the x-coordinate of the point:  1\n",
      "Enter the y-coordinate of the point:  1\n",
      "Enter the x-coordinate of the lower left corner:  0\n",
      "Enter the y-coordinate of the lower left corner:  0\n",
      "Enter the x-coordinate of the upper right corner:  2\n",
      "Enter the y-coordinate of the upper right corner:  3\n"
     ]
    },
    {
     "name": "stdout",
     "output_type": "stream",
     "text": [
      "True\n"
     ]
    }
   ],
   "source": [
    "def inside(x, y, x1, y1, x2, y2):\n",
    "\n",
    "\n",
    "  return x1 <= x <= x2 and y1 <= y <= y2\n",
    "\n",
    "x = float(input(\"Enter the x-coordinate of the point: \"))\n",
    "y = float(input(\"Enter the y-coordinate of the point: \"))\n",
    "x1 = float(input(\"Enter the x-coordinate of the lower left corner: \"))\n",
    "y1 = float(input(\"Enter the y-coordinate of the lower left corner: \"))\n",
    "x2 = float(input(\"Enter the x-coordinate of the upper right corner: \"))\n",
    "y2 = float(input(\"Enter the y-coordinate of the upper right corner: \"))\n",
    "\n",
    "\n",
    "result = inside(x, y, x1, y1, x2, y2)\n",
    "\n",
    "if result:\n",
    "  print(\"True\")\n",
    "else:\n",
    "  print(\"False\")"
   ]
  },
  {
   "cell_type": "code",
   "execution_count": 122,
   "id": "7d409c54-95c0-462c-96ce-2c1e9c95732f",
   "metadata": {},
   "outputs": [
    {
     "name": "stdin",
     "output_type": "stream",
     "text": [
      "Enter the x-coordinate of the point:  -1\n",
      "Enter the y-coordinate of the point:  -1\n",
      "Enter the x-coordinate of the lower left corner:  0\n",
      "Enter the y-coordinate of the lower left corner:  0\n",
      "Enter the x-coordinate of the upper right corner:  2\n",
      "Enter the y-coordinate of the upper right corner:  3\n"
     ]
    },
    {
     "name": "stdout",
     "output_type": "stream",
     "text": [
      "False\n"
     ]
    }
   ],
   "source": [
    "def inside(x, y, x1, y1, x2, y2):\n",
    "\n",
    "\n",
    "  return x1 <= x <= x2 and y1 <= y <= y2\n",
    "\n",
    "x = float(input(\"Enter the x-coordinate of the point: \"))\n",
    "y = float(input(\"Enter the y-coordinate of the point: \"))\n",
    "x1 = float(input(\"Enter the x-coordinate of the lower left corner: \"))\n",
    "y1 = float(input(\"Enter the y-coordinate of the lower left corner: \"))\n",
    "x2 = float(input(\"Enter the x-coordinate of the upper right corner: \"))\n",
    "y2 = float(input(\"Enter the y-coordinate of the upper right corner: \"))\n",
    "\n",
    "\n",
    "result = inside(x, y, x1, y1, x2, y2)\n",
    "\n",
    "if result:\n",
    "  print(\"True\")\n",
    "else:\n",
    "  print(\"False\")"
   ]
  },
  {
   "cell_type": "markdown",
   "id": "3cf1b427-d5a0-4249-bee8-8a6bd9b42e5b",
   "metadata": {},
   "source": [
    "# Question 5b\n",
    "b. Use function inside() from part a. to write an expression that tests whether \n",
    "the point (1,1) lies in both of the following rectangles: one with lower left\r\n",
    "corner (0.3, 0.5) and upper right corner (1.1, 0.7) and the other with lowe \r\n",
    "left corner (0.5, 0.2) and upper right corner (1.1, \n",
    "2)."
   ]
  },
  {
   "cell_type": "code",
   "execution_count": 164,
   "id": "8b183802-2c94-4230-8051-1bd18e8f7698",
   "metadata": {},
   "outputs": [
    {
     "name": "stdout",
     "output_type": "stream",
     "text": [
      "The point does not lie inside both rectangles.\n"
     ]
    }
   ],
   "source": [
    "pt = (1, 1)\n",
    "rec1 = (0.3, 0.5, 1.1, 0.7)\n",
    "rec2 = (0.5, 0.2, 1.1, 2)\n",
    "\n",
    "result = inside(*pt, *rec1) and inside(*pt, *rec2)\n",
    "\n",
    "if result:\n",
    "  print(\"The point lies inside both rectangles.\")\n",
    "else:\n",
    "  print(\"The point does not lie inside both rectangles.\")"
   ]
  },
  {
   "cell_type": "markdown",
   "id": "7fee4aaa-723f-47e6-89b5-19f17a4aa4b9",
   "metadata": {},
   "source": [
    "# Question 6\n",
    "You can turn a word into pig-Latin using the following two rules (simplified):\n",
    "• If the word starts with a consonant, move that letter to the end and append 'ay'. For example, 'happy' becomes 'appyhay' and 'pencil' becomes 'encilpay'.\n",
    "• If the word starts with a vowel, simply append 'way' to the end of the word. \n",
    "For example, 'enter' becomes 'enterway' and 'other' becomes 'otherway' . For \n",
    "our purposes, there are 5 vowels: a, e, i, o, u (so we count y as a consonant).\n",
    "Write a function pig() that takes a word (i.e., a string) as input and returns its pig\u0002Latin form. Your function should still work if the input word contains upper case characters. Your output should always be lower case however. \n",
    ">>> pig('happy')\n",
    "'appyhay'\n",
    ">>> pig('Enter')\n",
    "'enterway' \n"
   ]
  },
  {
   "cell_type": "code",
   "execution_count": 151,
   "id": "060eb6d5-9b47-46e4-b692-de907188fc24",
   "metadata": {},
   "outputs": [
    {
     "name": "stdin",
     "output_type": "stream",
     "text": [
      "Enter a word:  happy\n"
     ]
    },
    {
     "name": "stdout",
     "output_type": "stream",
     "text": [
      "The word in pig Latin is: appyhay\n"
     ]
    }
   ],
   "source": [
    "def pig(word):\n",
    "\n",
    "  word = word.lower()\n",
    "  first_letter = word[0]\n",
    "\n",
    "  if first_letter in 'aeiou':\n",
    "    return word + 'way'\n",
    "  else:\n",
    "    return word[1:] + first_letter + 'ay'\n",
    "\n",
    "\n",
    "word = input(\"Enter a word: \")\n",
    "\n",
    "\n",
    "pig_latin_word = pig(word)\n",
    "\n",
    "print(\"The word in pig Latin is:\", pig_latin_word)"
   ]
  },
  {
   "cell_type": "code",
   "execution_count": 153,
   "id": "e30b6947-8636-4a2b-95d5-ba73d174117d",
   "metadata": {},
   "outputs": [
    {
     "name": "stdin",
     "output_type": "stream",
     "text": [
      "Enter a word:  enter\n"
     ]
    },
    {
     "name": "stdout",
     "output_type": "stream",
     "text": [
      "The word in pig Latin is: enterway\n"
     ]
    }
   ],
   "source": [
    "def pig(word):\n",
    "\n",
    "  word = word.lower()\n",
    "  first_letter = word[0]\n",
    "\n",
    "  if first_letter in 'aeiou':\n",
    "    return word + 'way'\n",
    "  else:\n",
    "    return word[1:] + first_letter + 'ay'\n",
    "\n",
    "\n",
    "word = input(\"Enter a word: \")\n",
    "\n",
    "\n",
    "pig_latin_word = pig(word)\n",
    "\n",
    "print(\"The word in pig Latin is:\", pig_latin_word)"
   ]
  },
  {
   "cell_type": "markdown",
   "id": "dcd70d02-846f-4818-9918-88ab804e933d",
   "metadata": {},
   "source": [
    "# Question 7\n",
    "File bloodtype1.txt records blood-types of patients (A, B, AB, O or OO) at a clinic. \r\n",
    "Write a function bldcount() that reads the file with name name and reports (i.e.,\r\n",
    "prints) how many patients there are in each bloodtype.\r\n",
    ">>> bldcount('bloodtype.txt')\r\n",
    "There are 10 patients of blood type A.\r\n",
    "There is one patient of blood type B.\r\n",
    "There are 10 patients of blood type AB.\r\n",
    "There are 12 patients of blood type O.\r\n",
    "There are no patients of blood type OO."
   ]
  },
  {
   "cell_type": "markdown",
   "id": "e588b3e1-4b7a-4f25-8a55-2940ecbb36a1",
   "metadata": {
    "jp-MarkdownHeadingCollapsed": true
   },
   "source": [
    "#"
   ]
  },
  {
   "cell_type": "code",
   "execution_count": 218,
   "id": "7c226eda-6740-4c4c-badc-7dd44127b7fb",
   "metadata": {},
   "outputs": [
    {
     "name": "stdout",
     "output_type": "stream",
     "text": [
      "There are 10 patients of blood type A.\n",
      "There are 1 patients of blood type B.\n",
      "There are 9 patients of blood type AB.\n",
      "There are 12 patients of blood type O.\n",
      "There are 0 patients of blood type OO.\n"
     ]
    }
   ],
   "source": [
    "def bldcount(filename):\n",
    "   \n",
    "    blood_types = {'A': 0, 'B': 0, 'AB': 0, 'O': 0, 'OO': 0}\n",
    "\n",
    "    try:\n",
    "        with open(filename, 'r') as f:\n",
    "            for line in f:\n",
    "                blood_type = line.strip() \n",
    "                if blood_type in blood_types:\n",
    "                    blood_types[blood_type] += 1\n",
    "\n",
    "    except FileNotFoundError:\n",
    "        print(f\"Error: File '{filename}' not found.\")\n",
    "        return\n",
    "\n",
    "    for blood_type, count in blood_types.items():\n",
    "        print(f\"There are {count} patients of blood type {blood_type}.\")\n",
    "\n",
    "\n",
    "if __name__ == \"__main__\":\n",
    "    filename = \"C:/Users/Sonu John/Desktop/bloodtype2.txt\"  \n",
    "    bldcount(filename)"
   ]
  },
  {
   "cell_type": "markdown",
   "id": "9bde7ad5-6dbe-449c-98c8-6761ee1ed570",
   "metadata": {},
   "source": [
    "# Question 8\n",
    "Write a function curconv() that takes as input:\r\n",
    "1. a currency represented using a string (e.g., 'JPY' for the Japanese Yen or \r\n",
    "'EUR' for the Euro)\r\n",
    "2. an amount\r\n",
    "and then converts and returns the amount in US doll\n",
    ">>> curconv('EUR', 100)\r\n",
    "122.96544\r\n",
    ">>> curconv('JPY', 100)\r\n",
    "1.241401\r\n",
    "The currency rates you will need are stored in file currencies.txt:\r\n",
    "AUD 1.0345157 Australian Dollar\r\n",
    "CHF 1.0237414 Swiss Franc\r\n",
    "CNY 0.1550176 Chinese Yuan\r\n",
    "ars.\r"
   ]
  },
  {
   "cell_type": "code",
   "execution_count": null,
   "id": "470275d9-4728-4f7f-a60c-f1a6a32ec233",
   "metadata": {},
   "outputs": [
    {
     "name": "stdin",
     "output_type": "stream",
     "text": [
      "Enter the currency code (e.g., JPY, EUR):  JPY, EUR\n"
     ]
    }
   ],
   "source": [
    "def curconv(currency, amount, filename=\"C:/Users/Sonu John/Desktop/currencyrates.txt\"):\n",
    " \n",
    "\n",
    "  exchange_rates = {}\n",
    "  with open(filename, \"r\") as f:\n",
    "    for line in f:\n",
    "      currency_code, rate = line.strip().split()\n",
    "      exchange_rates[currency_code] = float(rate)\n",
    "\n",
    "  try:\n",
    "    usd_amount = amount / exchange_rates[currency]\n",
    "    return usd_amount\n",
    "  except KeyError:\n",
    "    return \"Invalid currency code\"\n",
    "\n",
    "\n",
    "currency = input(\"Enter the currency code (e.g., JPY, EUR): \")\n",
    "amount = float(input(\"Enter the amount to be converted: \"))\n",
    "\n",
    "\n",
    "converted_amount = curconv(currency, amount)\n",
    "\n",
    "\n",
    "print(f\"{amount} {currency} is equivalent to {converted_amount} USD\")"
   ]
  },
  {
   "cell_type": "markdown",
   "id": "22d68c13-c07a-47b5-849c-29409f43449b",
   "metadata": {},
   "source": [
    "# Question 9\n",
    "Each of the following will cause an exception (an error). Identify what type of \n",
    "exception each will cause.\r\n",
    "Trying to add incompatible variables, as i \r\n",
    "adding 6 + ‘a’\r\n",
    "Referring to the 12th item of a list that has only 10 \r\n",
    "items\r\n",
    "Using a value that is out of range for a function’s \r\n",
    "input, such as calling math.sqrt(-1.0)\r\n",
    "Using an undeclared variable, such as print(x)\r\n",
    "when x has not been defined \r\n",
    "Trying to open a file that does not exist, such as \r\n",
    "mistyping the file name or looking in the wrong \r\n",
    "directory."
   ]
  },
  {
   "cell_type": "markdown",
   "id": "1d00cb4e-6528-445e-8181-a7d34d225d2e",
   "metadata": {},
   "source": [
    "# Answer 9\n",
    "Trying to add incompatible variables, as in adding 6 + ‘a’ -TypeError\n",
    "Referring to the 12th item of a list that has only 10 items - IndexError\n",
    "Using a value that is out of range for a function’s input, such as calling math.sqrt(-1.0) - ValueError\n",
    "Using an undeclared variable, such as print(x) when x has not been defined - NameError\n",
    "Trying to open a file that does not exist, such as mistyping the file name or looking in the wrong directory - FileNotFoundError"
   ]
  },
  {
   "cell_type": "markdown",
   "id": "7fb92d17-1947-4772-beb0-bb012f1bf8e2",
   "metadata": {},
   "source": [
    "# Question 10\n",
    "Encryption is the process of hiding the meaning of a text by substituting letters in the \r\n",
    "message with other letters, according to some system. If the process is successful, no \r\n",
    "one but the intended recipient can understand the encrypted message. Cryptanalysis\r\n",
    "refers to attempts to undo the encryption, even if some details of the encryption are \r\n",
    "unknown (for example, if an encrypted message has been intercepted). The first step \r\n",
    "of cryptanalysis is often to build up a table of letter frequencies in the encrypted text. \r\n",
    "Assume that the string letters is already defined as \r\n",
    "'abcdefghijklmnopqrstuvwxyz'. Write a function called frequencies()\r\n",
    "that takes a string as its only parameter, and returns a list of integers, showing the \r\n",
    "number of times each character appears in the text. Your function may ignore any \r\n",
    "characters that are not in letters. \r\n",
    ">>> frequencies('The quick red fox got bored and went home.')\r\n",
    "[1, 1, 1, 3, 5, 1, 1, 2, 1, 0, 1, 0, 1, 2, 4, 0, 1, 2, 0, 2, \r\n",
    "1, 0, 1, 1, 0, 0]\r\n",
    ">>> frequ)encies('apple'"
   ]
  },
  {
   "cell_type": "code",
   "execution_count": 240,
   "id": "fb81da29-f213-49b5-a052-125ae05a6ac2",
   "metadata": {},
   "outputs": [
    {
     "name": "stdin",
     "output_type": "stream",
     "text": [
      " text:  The quick red fox got bored and went home.\n"
     ]
    },
    {
     "data": {
      "text/plain": [
       "[1, 1, 1, 3, 5, 1, 1, 2, 1, 0, 1, 0, 1, 2, 4, 0, 1, 2, 0, 3, 1, 0, 1, 1, 0, 0]"
      ]
     },
     "execution_count": 240,
     "metadata": {},
     "output_type": "execute_result"
    }
   ],
   "source": [
    "\n",
    "def frequencies(text):\n",
    "    letters = 'abcdefghijklmnopqrstuvwxyz'\n",
    "    freq_list = [0] * len(letters) \n",
    "    \n",
    "    for char in text.lower():  \n",
    "        if char in letters:  \n",
    "            index = letters.index(char)\n",
    "            freq_list[index] += 1 \n",
    "    return freq_list\n",
    "\n",
    "# Example usage\n",
    "input_text = input(\" text: \")\n",
    "frequencies(input_text)\n"
   ]
  },
  {
   "cell_type": "code",
   "execution_count": 242,
   "id": "ab21af49-1ca1-466d-a21e-813912c5b62e",
   "metadata": {},
   "outputs": [
    {
     "name": "stdin",
     "output_type": "stream",
     "text": [
      " text:  apple\n"
     ]
    },
    {
     "data": {
      "text/plain": [
       "[1, 0, 0, 0, 1, 0, 0, 0, 0, 0, 0, 1, 0, 0, 0, 2, 0, 0, 0, 0, 0, 0, 0, 0, 0, 0]"
      ]
     },
     "execution_count": 242,
     "metadata": {},
     "output_type": "execute_result"
    }
   ],
   "source": [
    "\n",
    "def frequencies(text):\n",
    "    letters = 'abcdefghijklmnopqrstuvwxyz'\n",
    "    freq_list = [0] * len(letters) \n",
    "    \n",
    "    for char in text.lower():  \n",
    "        if char in letters:  \n",
    "            index = letters.index(char)\n",
    "            freq_list[index] += 1 \n",
    "    return freq_list\n",
    "\n",
    "# Example usage\n",
    "input_text = input(\" text: \")\n",
    "frequencies(input_text)\n"
   ]
  },
  {
   "cell_type": "code",
   "execution_count": null,
   "id": "5738534b-f1e7-4f52-9541-a8e56a560813",
   "metadata": {},
   "outputs": [],
   "source": []
  }
 ],
 "metadata": {
  "kernelspec": {
   "display_name": "Python 3 (ipykernel)",
   "language": "python",
   "name": "python3"
  },
  "language_info": {
   "codemirror_mode": {
    "name": "ipython",
    "version": 3
   },
   "file_extension": ".py",
   "mimetype": "text/x-python",
   "name": "python",
   "nbconvert_exporter": "python",
   "pygments_lexer": "ipython3",
   "version": "3.12.4"
  }
 },
 "nbformat": 4,
 "nbformat_minor": 5
}
